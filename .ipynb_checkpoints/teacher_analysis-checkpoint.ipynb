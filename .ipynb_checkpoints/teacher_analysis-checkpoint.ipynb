{
 "cells": [
  {
   "cell_type": "code",
   "execution_count": 51,
   "metadata": {
    "collapsed": true
   },
   "outputs": [],
   "source": [
    "import pandas as pd\n",
    "import numpy as np\n",
    "import matplotlib.pyplot as plt"
   ]
  },
  {
   "cell_type": "code",
   "execution_count": 5,
   "metadata": {
    "collapsed": true
   },
   "outputs": [],
   "source": [
    "file_url = 'https://raw.githubusercontent.com/bernardkung/TeacherSalary/master/2015_2016_PA_Salaries.csv'\n",
    "data = pd.read_csv(file_url)"
   ]
  },
  {
   "cell_type": "code",
   "execution_count": 12,
   "metadata": {
    "collapsed": false
   },
   "outputs": [
    {
     "data": {
      "text/html": [
       "<div>\n",
       "<table border=\"1\" class=\"dataframe\">\n",
       "  <thead>\n",
       "    <tr style=\"text-align: right;\">\n",
       "      <th></th>\n",
       "      <th>Name</th>\n",
       "      <th>School District</th>\n",
       "      <th>Job Category</th>\n",
       "      <th>Position</th>\n",
       "      <th>Assignment</th>\n",
       "      <th>YearsInLEA</th>\n",
       "      <th>YearsInEd</th>\n",
       "      <th>Highest Degree</th>\n",
       "      <th>Annual Salary</th>\n",
       "    </tr>\n",
       "  </thead>\n",
       "  <tbody>\n",
       "    <tr>\n",
       "      <th>0</th>\n",
       "      <td>HAIN, JOEL K</td>\n",
       "      <td>South Middleton SD</td>\n",
       "      <td>Administrative / Supervisory</td>\n",
       "      <td>School Administrator</td>\n",
       "      <td>Secondary Principal</td>\n",
       "      <td>3</td>\n",
       "      <td>16</td>\n",
       "      <td>Master's degree</td>\n",
       "      <td>$107,424</td>\n",
       "    </tr>\n",
       "    <tr>\n",
       "      <th>1</th>\n",
       "      <td>APPLE, EDWARD E</td>\n",
       "      <td>Juniata County SD</td>\n",
       "      <td>Administrative / Supervisory</td>\n",
       "      <td>School Administrator</td>\n",
       "      <td>Secondary Principal</td>\n",
       "      <td>21</td>\n",
       "      <td>21</td>\n",
       "      <td>Master's degree</td>\n",
       "      <td>$94,181</td>\n",
       "    </tr>\n",
       "    <tr>\n",
       "      <th>2</th>\n",
       "      <td>RUMMEL, JAMES S</td>\n",
       "      <td>Armstrong SD</td>\n",
       "      <td>Administrative / Supervisory</td>\n",
       "      <td>School Administrator</td>\n",
       "      <td>Secondary Principal</td>\n",
       "      <td>13</td>\n",
       "      <td>25</td>\n",
       "      <td>Master's degree</td>\n",
       "      <td>$104,207</td>\n",
       "    </tr>\n",
       "    <tr>\n",
       "      <th>3</th>\n",
       "      <td>STAGE, CRAIG</td>\n",
       "      <td>Athens Area SD</td>\n",
       "      <td>Administrative / Supervisory</td>\n",
       "      <td>Chief School Administrator</td>\n",
       "      <td>Acting Superintendent</td>\n",
       "      <td>3</td>\n",
       "      <td>14</td>\n",
       "      <td>Master's degree</td>\n",
       "      <td>$130,000</td>\n",
       "    </tr>\n",
       "    <tr>\n",
       "      <th>4</th>\n",
       "      <td>KEPLER, BERNARD CHARLES</td>\n",
       "      <td>Palmyra Area SD</td>\n",
       "      <td>Administrative / Supervisory</td>\n",
       "      <td>LEA Administrator</td>\n",
       "      <td>Assistant Superintendent</td>\n",
       "      <td>2</td>\n",
       "      <td>18</td>\n",
       "      <td>Doctoral degree</td>\n",
       "      <td>$130,907</td>\n",
       "    </tr>\n",
       "  </tbody>\n",
       "</table>\n",
       "</div>"
      ],
      "text/plain": [
       "                      Name     School District                  Job Category  \\\n",
       "0             HAIN, JOEL K  South Middleton SD  Administrative / Supervisory   \n",
       "1          APPLE, EDWARD E   Juniata County SD  Administrative / Supervisory   \n",
       "2          RUMMEL, JAMES S        Armstrong SD  Administrative / Supervisory   \n",
       "3             STAGE, CRAIG      Athens Area SD  Administrative / Supervisory   \n",
       "4  KEPLER, BERNARD CHARLES     Palmyra Area SD  Administrative / Supervisory   \n",
       "\n",
       "                     Position                Assignment  YearsInLEA  \\\n",
       "0        School Administrator       Secondary Principal           3   \n",
       "1        School Administrator       Secondary Principal          21   \n",
       "2        School Administrator       Secondary Principal          13   \n",
       "3  Chief School Administrator     Acting Superintendent           3   \n",
       "4           LEA Administrator  Assistant Superintendent           2   \n",
       "\n",
       "   YearsInEd   Highest Degree Annual Salary  \n",
       "0         16  Master's degree     $107,424   \n",
       "1         21  Master's degree      $94,181   \n",
       "2         25  Master's degree     $104,207   \n",
       "3         14  Master's degree     $130,000   \n",
       "4         18  Doctoral degree     $130,907   "
      ]
     },
     "execution_count": 12,
     "metadata": {},
     "output_type": "execute_result"
    }
   ],
   "source": [
    "data.head()"
   ]
  },
  {
   "cell_type": "code",
   "execution_count": 26,
   "metadata": {
    "collapsed": false
   },
   "outputs": [
    {
     "data": {
      "text/plain": [
       "array(['Name', 'School District', 'Job Category', 'Position', 'Assignment',\n",
       "       'YearsInLEA', 'YearsInEd', 'Highest Degree', 'Annual Salary'], dtype=object)"
      ]
     },
     "execution_count": 26,
     "metadata": {},
     "output_type": "execute_result"
    }
   ],
   "source": [
    "data.columns.values"
   ]
  },
  {
   "cell_type": "code",
   "execution_count": 33,
   "metadata": {
    "collapsed": false
   },
   "outputs": [
    {
     "data": {
      "text/plain": [
       "0    $107,424 \n",
       "1     $94,181 \n",
       "2    $104,207 \n",
       "3    $130,000 \n",
       "4    $130,907 \n",
       "Name: Annual Salary, dtype: object"
      ]
     },
     "execution_count": 33,
     "metadata": {},
     "output_type": "execute_result"
    }
   ],
   "source": [
    "salary = data['Annual Salary']\n",
    "salary.head()"
   ]
  },
  {
   "cell_type": "code",
   "execution_count": 45,
   "metadata": {
    "collapsed": false
   },
   "outputs": [
    {
     "data": {
      "text/plain": [
       "0    107424\n",
       "1     94181\n",
       "2    104207\n",
       "3    130000\n",
       "4    130907\n",
       "Name: Annual Salary, dtype: int32"
      ]
     },
     "execution_count": 45,
     "metadata": {},
     "output_type": "execute_result"
    }
   ],
   "source": [
    "salary = salary.replace('[\\$,]', '', regex=True).astype(int)\n",
    "salary.head()"
   ]
  },
  {
   "cell_type": "code",
   "execution_count": 50,
   "metadata": {
    "collapsed": false
   },
   "outputs": [
    {
     "data": {
      "image/png": "[encoded data removed]",
      "text/plain": [
       "<matplotlib.figure.Figure at 0x23e9a34afd0>"
      ]
     },
     "metadata": {},
     "output_type": "display_data"
    }
   ],
   "source": [
    "plt.hist(salary)\n",
    "plt.xlabel('Salary ($)')\n",
    "plt.ylabel('count')\n",
    "plt.title('Salary Histogram')\n",
    "plt.show()"
   ]
  },
  {
   "cell_type": "code",
   "execution_count": 53,
   "metadata": {
    "collapsed": false
   },
   "outputs": [
    {
     "data": {
      "text/plain": [
       "146744"
      ]
     },
     "execution_count": 53,
     "metadata": {},
     "output_type": "execute_result"
    }
   ],
   "source": [
    "len(data)"
   ]
  },
  {
   "cell_type": "code",
   "execution_count": 55,
   "metadata": {
    "collapsed": false
   },
   "outputs": [
    {
     "ename": "TypeError",
     "evalue": "scatter() missing 1 required positional argument: 'y'",
     "output_type": "error",
     "traceback": [
      "\u001b[0;31m---------------------------------------------------------------------------\u001b[0m",
      "\u001b[0;31mTypeError\u001b[0m                                 Traceback (most recent call last)",
      "\u001b[0;32m<ipython-input-55-37ca40d3764e>\u001b[0m in \u001b[0;36m<module>\u001b[0;34m()\u001b[0m\n\u001b[0;32m----> 1\u001b[0;31m \u001b[0mplt\u001b[0m\u001b[1;33m.\u001b[0m\u001b[0mscatter\u001b[0m\u001b[1;33m(\u001b[0m\u001b[0msalary\u001b[0m\u001b[1;33m)\u001b[0m\u001b[1;33m\u001b[0m\u001b[0m\n\u001b[0m",
      "\u001b[0;31mTypeError\u001b[0m: scatter() missing 1 required positional argument: 'y'"
     ]
    }
   ],
   "source": [
    "plt.scatter(salary)"
   ]
  }
 ],
 "metadata": {
  "kernelspec": {
   "display_name": "Python 3",
   "language": "python",
   "name": "python3"
  },
  "language_info": {
   "codemirror_mode": {
    "name": "ipython",
    "version": 3
   },
   "file_extension": ".py",
   "mimetype": "text/x-python",
   "name": "python",
   "nbconvert_exporter": "python",
   "pygments_lexer": "ipython3",
   "version": "3.6.0"
  }
 },
 "nbformat": 4,
 "nbformat_minor": 2
}
